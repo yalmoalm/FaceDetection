{
 "cells": [
  {
   "cell_type": "code",
   "execution_count": null,
   "outputs": [],
   "source": [],
   "metadata": {
    "collapsed": false
   }
  },
  {
   "cell_type": "code",
   "execution_count": 1,
   "outputs": [],
   "source": [
    "import cv2\n",
    "import os\n",
    "import time\n",
    "\n",
    "\n",
    "# Set the number of images to capture\n",
    "num_images = 110\n",
    "\n",
    "\n",
    "# Set the output directory for the images\n",
    "output_dir = \"C:/Users/yalmo/PycharmProjects/pythonProject1/data/images\"\n",
    "\n",
    "# Create the output directory if it doesn't exist\n",
    "if not os.path.exists(output_dir):\n",
    "    os.makedirs(output_dir)\n",
    "\n",
    "# Initialize the webcam\n",
    "cap = cv2.VideoCapture(0)\n",
    "\n",
    "# Loop through the specified number of images\n",
    "for i in range(num_images):\n",
    "    # Capture a frame from the webcam\n",
    "    ret, frame = cap.read()\n",
    "\n",
    "    # If the frame was successfully captured, save it as an image\n",
    "    if ret:\n",
    "        image_name = \"image{}.jpg\".format(i)\n",
    "        image_path = os.path.join(output_dir, image_name)\n",
    "        cv2.imwrite(image_path, frame)\n",
    "        time.sleep(0.5)  # Add a delay of 0.5 seconds\n",
    "\n",
    "# Release the webcam and close all windows\n",
    "cap.release()\n",
    "cv2.destroyAllWindows()"
   ],
   "metadata": {
    "collapsed": false
   }
  }
 ],
 "metadata": {
  "kernelspec": {
   "display_name": "Python 3",
   "language": "python",
   "name": "python3"
  },
  "language_info": {
   "codemirror_mode": {
    "name": "ipython",
    "version": 2
   },
   "file_extension": ".py",
   "mimetype": "text/x-python",
   "name": "python",
   "nbconvert_exporter": "python",
   "pygments_lexer": "ipython2",
   "version": "2.7.6"
  }
 },
 "nbformat": 4,
 "nbformat_minor": 0
}
